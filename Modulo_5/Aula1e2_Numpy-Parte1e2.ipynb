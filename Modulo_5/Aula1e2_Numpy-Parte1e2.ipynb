{
 "cells": [
  {
   "cell_type": "code",
   "execution_count": null,
   "id": "30ca3e9a",
   "metadata": {},
   "outputs": [],
   "source": [
    "# NUNPY\n",
    "# É uma biblioteca de computação científica em python;\n",
    "# Principal estrutura de dados são arrays;\n",
    "# Arrays são objetos semelhantes a listas, mas são muito mais rapidos para processar;\n",
    "# Numpy oferece funções para cálculos com matrizes e álgebra linear;\n",
    "# É uma das bibliotecas mais importantes para o dia-a-dia de um cientista de dados."
   ]
  },
  {
   "cell_type": "code",
   "execution_count": null,
   "id": "38532729",
   "metadata": {},
   "outputs": [],
   "source": [
    "# Conceito de array:\n",
    "# Nunpy oferece uma estrutura de dados poderosa chamada NDarray. Um NDarray combina indexação de maneira\n",
    "# a mapear cada item para um bloco de memória.\n",
    "# Podemos pensar em num array como sendo uma tabela de elementos, que possuem O MESMO TIPO e que são\n",
    "# indexados por uma tupla de inteiros positivos, que são as DIMENSÕES DO ARRAY."
   ]
  },
  {
   "cell_type": "code",
   "execution_count": 3,
   "id": "0c71b913",
   "metadata": {},
   "outputs": [],
   "source": [
    "# np é uma forma padrão utilizada para o alias do numpy. Usando np fazemos: np.método()\n",
    "import numpy as np"
   ]
  },
  {
   "cell_type": "code",
   "execution_count": 4,
   "id": "63604a56",
   "metadata": {},
   "outputs": [
    {
     "data": {
      "text/plain": [
       "'1.21.5'"
      ]
     },
     "execution_count": 4,
     "metadata": {},
     "output_type": "execute_result"
    }
   ],
   "source": [
    "# Verificando a versão da biblioteca numpy instalada pelo anaconda:\n",
    "np.__version__"
   ]
  },
  {
   "cell_type": "code",
   "execution_count": 5,
   "id": "c4d6b951",
   "metadata": {},
   "outputs": [],
   "source": [
    "# CRIANDO UMA ARRAY\n",
    "# A maneira mais simples de criar um numpy array é primeiramente criar uma lista e depois converter par aum array:\n",
    "lista = [1,2,3,4,5]\n",
    "primeiro_array = np.array(lista)"
   ]
  },
  {
   "cell_type": "code",
   "execution_count": 6,
   "id": "81083079",
   "metadata": {},
   "outputs": [
    {
     "data": {
      "text/plain": [
       "array([1, 2, 3, 4, 5])"
      ]
     },
     "execution_count": 6,
     "metadata": {},
     "output_type": "execute_result"
    }
   ],
   "source": [
    "primeiro_array"
   ]
  },
  {
   "cell_type": "code",
   "execution_count": 7,
   "id": "2c182046",
   "metadata": {},
   "outputs": [
    {
     "data": {
      "text/plain": [
       "numpy.ndarray"
      ]
     },
     "execution_count": 7,
     "metadata": {},
     "output_type": "execute_result"
    }
   ],
   "source": [
    "type (primeiro_array)"
   ]
  },
  {
   "cell_type": "code",
   "execution_count": 8,
   "id": "9a8b4a92",
   "metadata": {},
   "outputs": [
    {
     "data": {
      "text/plain": [
       "array([0, 0, 3, 3, 4])"
      ]
     },
     "execution_count": 8,
     "metadata": {},
     "output_type": "execute_result"
    }
   ],
   "source": [
    "# poderíamos já fazer diretamente na função:\n",
    "np.array([0,0,3,3,4])"
   ]
  },
  {
   "cell_type": "code",
   "execution_count": 9,
   "id": "624dad0e",
   "metadata": {},
   "outputs": [
    {
     "data": {
      "text/plain": [
       "array(['0', '0', 'oi', '3', '4'], dtype='<U11')"
      ]
     },
     "execution_count": 9,
     "metadata": {},
     "output_type": "execute_result"
    }
   ],
   "source": [
    "# estrutura cujo os elementeos possuem o mesmo tipo de dados:\n",
    "np.array([0,0,\"oi\",3,4]) # ele criou o array mas forçou tds os elementos a terem o mesmo tipo (todos string)"
   ]
  },
  {
   "cell_type": "code",
   "execution_count": 10,
   "id": "50252a72",
   "metadata": {},
   "outputs": [],
   "source": [
    "# FUNÇÃO SHAPE / NDIM"
   ]
  },
  {
   "cell_type": "code",
   "execution_count": 11,
   "id": "55c019f5",
   "metadata": {},
   "outputs": [
    {
     "name": "stdout",
     "output_type": "stream",
     "text": [
      "[1 2 3 4 5]\n"
     ]
    },
    {
     "data": {
      "text/plain": [
       "(5,)"
      ]
     },
     "execution_count": 11,
     "metadata": {},
     "output_type": "execute_result"
    }
   ],
   "source": [
    "# O atributo SHAPE retorna uma tupla que consiste nas dimensões do array - nesse caso 1 só:\n",
    "\n",
    "print(primeiro_array)\n",
    "primeiro_array.shape"
   ]
  },
  {
   "cell_type": "code",
   "execution_count": 12,
   "id": "ebf66438",
   "metadata": {},
   "outputs": [],
   "source": [
    "# Vamos criar um array bidimensional? Menbrem-se que a função array espera receber \"array-like\" (array, lista...)\n",
    "bid_array = np.array([[1,2,3],[4,5,6]])"
   ]
  },
  {
   "cell_type": "code",
   "execution_count": 13,
   "id": "4ea4e415",
   "metadata": {},
   "outputs": [
    {
     "name": "stdout",
     "output_type": "stream",
     "text": [
      "1\n",
      "2\n"
     ]
    }
   ],
   "source": [
    "print(primeiro_array.ndim)\n",
    "print(bid_array.ndim)"
   ]
  },
  {
   "cell_type": "code",
   "execution_count": 14,
   "id": "9b910ff3",
   "metadata": {},
   "outputs": [
    {
     "data": {
      "text/plain": [
       "array([[1, 2, 3],\n",
       "       [4, 5, 6]])"
      ]
     },
     "execution_count": 14,
     "metadata": {},
     "output_type": "execute_result"
    }
   ],
   "source": [
    "bid_array"
   ]
  },
  {
   "cell_type": "code",
   "execution_count": 15,
   "id": "d9b91b0b",
   "metadata": {},
   "outputs": [
    {
     "data": {
      "text/plain": [
       "(2, 3)"
      ]
     },
     "execution_count": 15,
     "metadata": {},
     "output_type": "execute_result"
    }
   ],
   "source": [
    "# Esse 2Darray possui 2 linhas e 3 colunas.\n",
    "# Eu tenho dois elementos no array e cada um deles tem comprimento 3 e como a tupla tem duas entradas \n",
    "# dizemos que o array e bidimensional.\n",
    "bid_array.shape\n",
    "# a primeira posição (2) indica o nº de linhas\n",
    "# a segunda posição (3) indica o nº de colunas"
   ]
  },
  {
   "cell_type": "code",
   "execution_count": 16,
   "id": "c30e5e11",
   "metadata": {},
   "outputs": [
    {
     "data": {
      "text/plain": [
       "(3, 3, 3)"
      ]
     },
     "execution_count": 16,
     "metadata": {},
     "output_type": "execute_result"
    }
   ],
   "source": [
    "# Vamos construir um array agora tridimensional: (poderiamos ter usado np.zeros . Tente ai)\n",
    "\n",
    "tri_dim = np.ones((3,3,3)) # .ones vai preencher tudo com 1, se fizer .zeros vai preencher com 0\n",
    "tri_dim.shape"
   ]
  },
  {
   "cell_type": "code",
   "execution_count": 17,
   "id": "2c0fde03",
   "metadata": {},
   "outputs": [
    {
     "data": {
      "text/plain": [
       "array([[[1., 1., 1.],\n",
       "        [1., 1., 1.],\n",
       "        [1., 1., 1.]],\n",
       "\n",
       "       [[1., 1., 1.],\n",
       "        [1., 1., 1.],\n",
       "        [1., 1., 1.]],\n",
       "\n",
       "       [[1., 1., 1.],\n",
       "        [1., 1., 1.],\n",
       "        [1., 1., 1.]]])"
      ]
     },
     "execution_count": 17,
     "metadata": {},
     "output_type": "execute_result"
    }
   ],
   "source": [
    "tri_dim"
   ]
  },
  {
   "cell_type": "code",
   "execution_count": 18,
   "id": "da24a7a4",
   "metadata": {},
   "outputs": [
    {
     "data": {
      "text/plain": [
       "3"
      ]
     },
     "execution_count": 18,
     "metadata": {},
     "output_type": "execute_result"
    }
   ],
   "source": [
    "# Verificando a dimensão do array:\n",
    "tri_dim.ndim"
   ]
  },
  {
   "cell_type": "code",
   "execution_count": null,
   "id": "0369ab2b",
   "metadata": {},
   "outputs": [],
   "source": [
    "# RESHAPE"
   ]
  },
  {
   "cell_type": "code",
   "execution_count": 19,
   "id": "c86358ec",
   "metadata": {},
   "outputs": [
    {
     "name": "stdout",
     "output_type": "stream",
     "text": [
      "[ 0  1  2  3  4  5  6  7  8  9 10 11 12 13 14 15]\n",
      "--------------------------------------------------------\n",
      "[[ 0  1  2  3]\n",
      " [ 4  5  6  7]\n",
      " [ 8  9 10 11]\n",
      " [12 13 14 15]]\n"
     ]
    }
   ],
   "source": [
    "# Alteramos o shape dos dados - remodelamos o array\n",
    "\n",
    "a = np.arange(16)\n",
    "print(a)\n",
    "print('--------' * 7)\n",
    "a = a.reshape((4,4))\n",
    "print(a)"
   ]
  },
  {
   "cell_type": "code",
   "execution_count": 20,
   "id": "e0714fe3",
   "metadata": {},
   "outputs": [
    {
     "name": "stdout",
     "output_type": "stream",
     "text": [
      "Antes do reshape:  (3,)\n",
      "Após reshae (-1,1):  (3, 1)\n",
      "Apos reshape (1,-1):  (1, 3)\n"
     ]
    }
   ],
   "source": [
    "# Vocês verão nos proximos módulos que as funções reshae(-1,1) e reshape(1,-1) são muito utilizados\n",
    "b = np.array([0,0,3]) \n",
    "print(\"Antes do reshape: \" , b.shape)\n",
    "\n",
    "# Sempre que colocamos o reshape (-1,1) ou (1,-1) a dimensão que já colocamos -1 se mantém e adicionamos uma\n",
    "# nnova dimensão:\n",
    "print(\"Após reshae (-1,1): \" , b.reshape(-1,1).shape) # mantém 3 linhas e almenta uma coluna\n",
    "\n",
    "b = b.reshape(1,-1) # reshape coloca 1 linha e 3 colunas\n",
    "print(\"Apos reshape (1,-1): \" , b.shape)"
   ]
  },
  {
   "cell_type": "code",
   "execution_count": null,
   "id": "f19a7852",
   "metadata": {},
   "outputs": [],
   "source": [
    "# OPERADORES"
   ]
  },
  {
   "cell_type": "code",
   "execution_count": 4,
   "id": "97e70c49",
   "metadata": {},
   "outputs": [
    {
     "name": "stdout",
     "output_type": "stream",
     "text": [
      "[19 10 18 16 11]\n",
      "[90  0 80 60 10]\n",
      "[4.5 0.  4.  3.  0.5]\n",
      "-----------------\n",
      "[1, 4, 6, 8, 1, 4, 6, 8]\n"
     ]
    }
   ],
   "source": [
    "# As operações são efetuadas para todos os elementos do array:\n",
    "arr = np.array([9,0,8,6,1])\n",
    "\n",
    "print(arr+10) # percorre todos os elementos somando 10\n",
    "print(arr*10) # percorre todos os elementos multiplicando por 10\n",
    "print(arr/2) # percorre todos os elementos dividindo por 2\n",
    "print('-----------------')\n",
    "\n",
    "# Em linhas funciona diferente:\n",
    "lista = [1,4,6,8]\n",
    "print(lista*2) # ao invez de mutiplicar cada elemento por 2 ele dobra o tamanho da lista"
   ]
  },
  {
   "cell_type": "code",
   "execution_count": null,
   "id": "c35ed685",
   "metadata": {},
   "outputs": [],
   "source": [
    "# FUNÇÃO SORT"
   ]
  },
  {
   "cell_type": "code",
   "execution_count": 5,
   "id": "a9ea9484",
   "metadata": {},
   "outputs": [
    {
     "name": "stdout",
     "output_type": "stream",
     "text": [
      "Desordenado [9 0 8 6 1]\n",
      "Ordenado [0 1 6 8 9]\n"
     ]
    }
   ],
   "source": [
    "# É usada para ordenar os elementos do array. Usamos muito esse tipo de função quando por exemplo, queremos\n",
    "# saber qual modelo nos deu a maior assertividade, nesses casos, basta ordenar pela coluna assrtividade.\n",
    "\n",
    "print(\"Desordenado\",arr)\n",
    "arr_sorted = np.sort(arr)\n",
    "\n",
    "print(\"Ordenado\", arr_sorted)"
   ]
  },
  {
   "cell_type": "code",
   "execution_count": 6,
   "id": "568163e2",
   "metadata": {},
   "outputs": [
    {
     "name": "stdout",
     "output_type": "stream",
     "text": [
      "[[9 5 3]\n",
      " [5 6 1]]\n",
      "\n",
      " Ordenado por linha: \n",
      " [[3 5 9]\n",
      " [1 5 6]]\n",
      "\n",
      "Ordenado por coluna: \n",
      " [[5 5 1]\n",
      " [9 6 3]]\n"
     ]
    }
   ],
   "source": [
    "# No caso de termos arrays bidimensionais, podemos fazer a ordenação por algma de suas dimensões:\n",
    "\n",
    "arr1_bdim = np.array([[9,5,3],[5,6,1]])\n",
    "print(arr1_bdim)\n",
    "\n",
    "# ordenado crescente por linha\n",
    "print(\"\\n Ordenado por linha: \\n\", np.sort(arr1_bdim, axis=1)) # axis=1 sempre é para linha\n",
    "# ordenado crescente por coluna\n",
    "print(\"\\nOrdenado por coluna: \\n\", np.sort(arr1_bdim, axis=0)) # axis==0 sempre é para coluna"
   ]
  },
  {
   "cell_type": "code",
   "execution_count": null,
   "id": "efb5f919",
   "metadata": {},
   "outputs": [],
   "source": [
    "# ITERANDO ARRAYS"
   ]
  },
  {
   "cell_type": "code",
   "execution_count": 11,
   "id": "1074bdcc",
   "metadata": {},
   "outputs": [
    {
     "name": "stdout",
     "output_type": "stream",
     "text": [
      "9\n",
      "0\n",
      "8\n",
      "6\n",
      "1\n"
     ]
    }
   ],
   "source": [
    "for i in arr:\n",
    "    print(i)\n",
    "    \n",
    "    # Podemos usar list comprehension - criação de uma lista baseada em outra listas (array) já existentes.\n",
    "    lista_do_arr = [ i for i in arr] ; lista_do_arr"
   ]
  },
  {
   "cell_type": "code",
   "execution_count": 12,
   "id": "61b858ca",
   "metadata": {},
   "outputs": [
    {
     "name": "stdout",
     "output_type": "stream",
     "text": [
      "[9 5 3]\n",
      "---------\n",
      "[5 6 1]\n",
      "---------\n",
      "9\n",
      "5\n",
      "3\n",
      "5\n",
      "6\n",
      "1\n"
     ]
    }
   ],
   "source": [
    "# No caso dos arrays bidimensionais, se rodarmos apenas um for, rodamos o número de elementos (linhas) do array:\n",
    "for x in arr1_bdim:\n",
    "    print(x)\n",
    "    print(\"---------\")\n",
    "    \n",
    "# No caso dos arrays bidimensionais, se rodarmos dois for, rodamos cada elemento do array:\n",
    "for x in arr1_bdim:\n",
    "    for y in x:\n",
    "        print(y)"
   ]
  },
  {
   "cell_type": "code",
   "execution_count": null,
   "id": "67774de2",
   "metadata": {},
   "outputs": [],
   "source": [
    "# ARANGE / LINSPACE / RANDOM"
   ]
  },
  {
   "cell_type": "code",
   "execution_count": 16,
   "id": "6a1bf8bd",
   "metadata": {},
   "outputs": [
    {
     "name": "stdout",
     "output_type": "stream",
     "text": [
      "[10 12 14 16 18]\n",
      "------------------------------\n",
      "[10.  12.5 15.  17.5 20. ]\n",
      "------------------------------\n"
     ]
    }
   ],
   "source": [
    "# Além das listas, existem outras maneiras comuns de criar arrays unidimensionais:\n",
    "# Arange: Passamos o valor inicial (incluso), o valor final (não incluso) e o tamanho do passo:\n",
    "\n",
    "arr1 = np.arange(10,20,2)\n",
    "print(arr1)\n",
    "print('----------'*3)\n",
    "\n",
    "# Linspace: Se em vez de especificar o passo quisermos especificar o número de elementos da sequência:\n",
    "\n",
    "lins1 = np.linspace(10,20,5)\n",
    "print(lins1)  # igualmente espaçado \n",
    "print('----------'*3)"
   ]
  },
  {
   "cell_type": "code",
   "execution_count": 19,
   "id": "205a9d86",
   "metadata": {},
   "outputs": [
    {
     "name": "stdout",
     "output_type": "stream",
     "text": [
      "[0.79509389 0.54369726 0.21374937 0.50111541 0.08579496 0.79989741\n",
      " 0.08848105 0.18790397 0.12089419 0.53926252]\n",
      "--------------------------------------------------\n",
      "[9 5 5]\n",
      "----------------------------------------\n",
      "1\n",
      "----------------------------------------\n"
     ]
    }
   ],
   "source": [
    "# Random\n",
    "# Random.random: cria array com números aleatórios no intervalo entre 0 e 1 (muito útil para amostragem)\n",
    "\n",
    "random_arr = np.random.random(10) # traz 10 números aleatórios entre 0 e 1\n",
    "print(random_arr)\n",
    "print('----------'*5)\n",
    "\n",
    "# random.randint: cria array com números inteiros (ou pode gerar apenas um números inteiro)\n",
    "random_int = np.random.randint(0,10, size= 3) # tras 3 números (size) aleatórios entre 0 e 10\n",
    "print(random_int)\n",
    "print('--------'*5)\n",
    "\n",
    "random_int_1 = np.random.randint(0,10) # se não colocar o size ele traz somente um número inteiro entre 0 e 10\n",
    "print(random_int_1)\n",
    "print('--------'*5)"
   ]
  },
  {
   "cell_type": "code",
   "execution_count": 20,
   "id": "be982f2e",
   "metadata": {},
   "outputs": [
    {
     "name": "stdout",
     "output_type": "stream",
     "text": [
      "[9 0 8 6 1]\n",
      "-----------\n",
      "0\n",
      "-----------\n",
      "[0 0 9]\n"
     ]
    }
   ],
   "source": [
    "# random.choice: gera número/lista aleatório baseado nos valores do array de entrada(muito útil para amostragem)\n",
    "print(arr)\n",
    "print('-----------')\n",
    "print(np.random.choice(arr))\n",
    "\n",
    "print('-----------')\n",
    "print(np.random.choice(arr, size= 3))"
   ]
  },
  {
   "cell_type": "code",
   "execution_count": 21,
   "id": "0332a14f",
   "metadata": {},
   "outputs": [
    {
     "data": {
      "image/png": "[encoded data removed]",
      "text/plain": [
       "<Figure size 640x480 with 1 Axes>"
      ]
     },
     "metadata": {},
     "output_type": "display_data"
    }
   ],
   "source": [
    "# random.normal: gera 1000 números aleatórios vindos uma distribuição normal\n",
    "x = np.random.normal(loc=1, scale=2, size=1000) \n",
    "# loc = media\n",
    "# scale = desvio padrão (2 desvios : 95% dos dados)\n",
    "#size: (tamonho) de 1000 números\n",
    "\n",
    "import matplotlib.pyplot as plt\n",
    "plt.hist(x)\n",
    "plt.show()"
   ]
  },
  {
   "cell_type": "code",
   "execution_count": null,
   "id": "9bfebeff",
   "metadata": {},
   "outputs": [],
   "source": [
    "# INDEXAÇÃO"
   ]
  },
  {
   "cell_type": "code",
   "execution_count": 22,
   "id": "b2f776c1",
   "metadata": {},
   "outputs": [
    {
     "name": "stdout",
     "output_type": "stream",
     "text": [
      "[9 0 8 6 1]\n",
      "9\n",
      "8\n"
     ]
    }
   ],
   "source": [
    "# Através dos índices, acessamos elementos de um array unidimenssional assim como nas listas:\n",
    "\n",
    "print(arr)\n",
    "primeiro_elemento = arr[0]\n",
    "terceiro_elemento = arr[2]\n",
    "\n",
    "print(primeiro_elemento)\n",
    "print(terceiro_elemento)"
   ]
  },
  {
   "cell_type": "code",
   "execution_count": 24,
   "id": "271fedf5",
   "metadata": {},
   "outputs": [
    {
     "name": "stdout",
     "output_type": "stream",
     "text": [
      "[[1 4 5]\n",
      " [9 9 8]]\n"
     ]
    }
   ],
   "source": [
    "# Para acessar elementos em arrays bidimensionais, precisamos passar dois parâmetros: índice da linha e da coluna\n",
    "arr_bidim = np.array([[1,4,5],[9,9,8]])\n",
    "print(arr_bidim)"
   ]
  },
  {
   "cell_type": "code",
   "execution_count": 25,
   "id": "5878281f",
   "metadata": {},
   "outputs": [
    {
     "data": {
      "text/plain": [
       "8"
      ]
     },
     "execution_count": 25,
     "metadata": {},
     "output_type": "execute_result"
    }
   ],
   "source": [
    "# terceiro elemento da segunda linha:\n",
    "arr_bidim[1,2] # arry[linha,coluna]"
   ]
  },
  {
   "cell_type": "code",
   "execution_count": 26,
   "id": "43813fe9",
   "metadata": {},
   "outputs": [
    {
     "data": {
      "text/plain": [
       "8"
      ]
     },
     "execution_count": 26,
     "metadata": {},
     "output_type": "execute_result"
    }
   ],
   "source": [
    "arr_bidim[1][2]"
   ]
  },
  {
   "cell_type": "code",
   "execution_count": null,
   "id": "638711f0",
   "metadata": {},
   "outputs": [],
   "source": [
    "# SLICING\n",
    "# Podemos \"fatiar\" os arrays, selecionando elementos específicos, assim como fizemos as listas, da seguinte\n",
    "# maneira: array[inicio:fim], sendo início incluso e o fim não incluso. Caso não passemos o início ele \n",
    "# começará de 0 e caso não passemos o fim ele irá até o fim do array, ou seja, o último elemento."
   ]
  },
  {
   "cell_type": "code",
   "execution_count": 29,
   "id": "b801a7d0",
   "metadata": {},
   "outputs": [
    {
     "name": "stdout",
     "output_type": "stream",
     "text": [
      "[9 0 8 6 1]\n",
      "------------\n",
      "[8 6 1]\n",
      "------------\n",
      "[9 0 8 6]\n",
      "------------\n",
      "[8 6 1]\n"
     ]
    }
   ],
   "source": [
    "# No caso unidimensional\n",
    "print(arr)\n",
    "\n",
    "# todos os elementos a partir do elemento cujo índice é 2.\n",
    "print('------------')\n",
    "print(arr[2:])\n",
    "\n",
    "# todos os elementos até o elemento cujo índice é 4 (lembre-se que o elemento do índice 4 não é incluso)\n",
    "print('------------')\n",
    "print(arr[:4])\n",
    "\n",
    "# todos os elementos entre a 2ª e a 5ª posição:\n",
    "print('------------')\n",
    "print(arr[2:5])"
   ]
  },
  {
   "cell_type": "code",
   "execution_count": 31,
   "id": "02b4078c",
   "metadata": {},
   "outputs": [
    {
     "name": "stdout",
     "output_type": "stream",
     "text": [
      "[[1 4 5]\n",
      " [9 9 8]]\n",
      "--------\n",
      "[4 9]\n",
      "--------\n",
      "[1 4 5]\n",
      "--------\n",
      "[[4 5]\n",
      " [9 8]]\n"
     ]
    }
   ],
   "source": [
    "# No caso bidimensional:\n",
    "\n",
    "print(arr_bidim)\n",
    "\n",
    "# todas as linhas, coluna 1\n",
    "print('--------')\n",
    "print(arr_bidim[ :,1])\n",
    "\n",
    "# todas as colunas, linha 0:\n",
    "print('--------')\n",
    "print(arr_bidim[0,:])\n",
    "\n",
    "# todas as linhas das colunas 1 até a 3:\n",
    "print('--------')\n",
    "print(arr_bidim[:,1:3])"
   ]
  },
  {
   "cell_type": "code",
   "execution_count": 32,
   "id": "cf7613c9",
   "metadata": {},
   "outputs": [
    {
     "name": "stdout",
     "output_type": "stream",
     "text": [
      "[9 0 8 6 1]\n",
      "[False  True  True  True False]\n"
     ]
    }
   ],
   "source": [
    "# Filtrando valores\n",
    "\n",
    "# O slicing já nos ajuda a filtrar \"pedaços\" de informações.\n",
    "# Podemos ainda fazer alguns filtros passando como prâmetro um array booleano:\n",
    "\n",
    "print(arr)\n",
    "condicao = arr % 2 == 0 # (resto da divisão por 2 igual a 0)\n",
    "print(condicao)"
   ]
  },
  {
   "cell_type": "code",
   "execution_count": 33,
   "id": "f9c11196",
   "metadata": {},
   "outputs": [
    {
     "data": {
      "text/plain": [
       "array([0, 8, 6])"
      ]
     },
     "execution_count": 33,
     "metadata": {},
     "output_type": "execute_result"
    }
   ],
   "source": [
    "arr[condicao]"
   ]
  },
  {
   "cell_type": "code",
   "execution_count": 38,
   "id": "f03892f3",
   "metadata": {},
   "outputs": [
    {
     "data": {
      "text/plain": [
       "array([9, 8])"
      ]
     },
     "execution_count": 38,
     "metadata": {},
     "output_type": "execute_result"
    }
   ],
   "source": [
    "arr[arr>6] # podemos tambem usar os operadores lógicos diretamente nos colchetes"
   ]
  },
  {
   "cell_type": "code",
   "execution_count": null,
   "id": "b26731e4",
   "metadata": {},
   "outputs": [],
   "source": [
    "# FUNÇÃO WHERE"
   ]
  },
  {
   "cell_type": "code",
   "execution_count": 35,
   "id": "832b29f6",
   "metadata": {},
   "outputs": [
    {
     "name": "stdout",
     "output_type": "stream",
     "text": [
      "[9 0 8 6 1]\n",
      "\n",
      " Se o elemento é menor que 7, retorna ele mesmo, se não retorna o valor -1:  [-1  0 -1  6  1]\n"
     ]
    }
   ],
   "source": [
    "# Usamos a função where para encontrar elementos que satisfazem uma condição x e podemos alterar por \n",
    "# exemplo, os elementos que não satisfazem. Veja os exemplos:\n",
    "\n",
    "print(arr)\n",
    "\n",
    "# np.where(arr < 7,arr,-1)\n",
    "print(\"\\n Se o elemento é menor que 7, retorna ele mesmo, se não retorna o valor -1: \",\\\n",
    "     np.where(arr < 7,arr,-1))"
   ]
  },
  {
   "cell_type": "code",
   "execution_count": 39,
   "id": "413a1bb1",
   "metadata": {},
   "outputs": [
    {
     "name": "stdout",
     "output_type": "stream",
     "text": [
      "[9 0 8 6 1]\n"
     ]
    },
    {
     "data": {
      "text/plain": [
       "array([-1,  1, -1,  1,  1])"
      ]
     },
     "execution_count": 39,
     "metadata": {},
     "output_type": "execute_result"
    }
   ],
   "source": [
    "# Se o elemento satisfaz a condição retorna 1, se não retorna o valor -1\n",
    "print(arr)\n",
    "np.where(arr < 7,1,-1)"
   ]
  },
  {
   "cell_type": "code",
   "execution_count": null,
   "id": "41f76ab8",
   "metadata": {},
   "outputs": [],
   "source": []
  }
 ],
 "metadata": {
  "kernelspec": {
   "display_name": "Python 3 (ipykernel)",
   "language": "python",
   "name": "python3"
  },
  "language_info": {
   "codemirror_mode": {
    "name": "ipython",
    "version": 3
   },
   "file_extension": ".py",
   "mimetype": "text/x-python",
   "name": "python",
   "nbconvert_exporter": "python",
   "pygments_lexer": "ipython3",
   "version": "3.9.13"
  }
 },
 "nbformat": 4,
 "nbformat_minor": 5
}
