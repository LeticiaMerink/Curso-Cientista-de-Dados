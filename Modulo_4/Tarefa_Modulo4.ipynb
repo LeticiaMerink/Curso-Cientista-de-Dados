{
 "cells": [
  {
   "cell_type": "code",
   "execution_count": null,
   "id": "20a109b3",
   "metadata": {},
   "outputs": [],
   "source": [
    "# Ex 1 Criar uma tabela dados_cadastrais onde cada linha representa um funcionário e com os \n",
    "# seguintes atributos: id, nome, sobrenome, data_nasc, cpf e endereco; Criar uma tabela dados_profissionais\n",
    "# com id, graduacao, cargo, salario e tempo_casa. Insira 4 registros em cada uma das tabelas."
   ]
  },
  {
   "cell_type": "code",
   "execution_count": 2,
   "id": "acab8095",
   "metadata": {},
   "outputs": [],
   "source": [
    "# importando biblioteca \n",
    "import sqlite3 "
   ]
  },
  {
   "cell_type": "code",
   "execution_count": 3,
   "id": "31c4e45f",
   "metadata": {},
   "outputs": [
    {
     "name": "stdout",
     "output_type": "stream",
     "text": [
      "<sqlite3.Connection object at 0x0000025FD3BF26C0>\n"
     ]
    }
   ],
   "source": [
    "# Criando banco de dados e estabelecendo conexão com ele:\n",
    "conn = sqlite3.connect(\"dados_cadastrais.db\")\n",
    "print(conn)"
   ]
  },
  {
   "cell_type": "code",
   "execution_count": 4,
   "id": "b5a827e4",
   "metadata": {},
   "outputs": [
    {
     "name": "stdout",
     "output_type": "stream",
     "text": [
      "<sqlite3.Connection object at 0x0000025FD3BF28A0>\n"
     ]
    }
   ],
   "source": [
    "# Criando banco de dados e estabelecendo conexão com ele:\n",
    "conn = sqlite3.connect(\"dados_profissionais.db\")\n",
    "print(conn)"
   ]
  },
  {
   "cell_type": "code",
   "execution_count": 5,
   "id": "20f80df2",
   "metadata": {},
   "outputs": [],
   "source": [
    "# cursor = é através dessa variável que criamos tabelas, inserimos registros e fazemos queries de \n",
    "# operações no banco\n",
    "cursor = conn.cursor()"
   ]
  },
  {
   "cell_type": "code",
   "execution_count": 6,
   "id": "b8109e19",
   "metadata": {},
   "outputs": [
    {
     "data": {
      "text/plain": [
       "<sqlite3.Cursor at 0x25fd3be36c0>"
      ]
     },
     "execution_count": 6,
     "metadata": {},
     "output_type": "execute_result"
    }
   ],
   "source": [
    "# Criando nossas tabelas. O método execute recebe uma query SQL e a executa.\n",
    "cursor.execute(\"CREATE TABLE dados_cadastrais (Id integer, nome text, sobrenome text, data_nasci integer, \\\n",
    "                cpf inteiro, endereco text)\")"
   ]
  },
  {
   "cell_type": "code",
   "execution_count": 7,
   "id": "a1b72945",
   "metadata": {},
   "outputs": [
    {
     "data": {
      "text/plain": [
       "<sqlite3.Cursor at 0x25fd3be36c0>"
      ]
     },
     "execution_count": 7,
     "metadata": {},
     "output_type": "execute_result"
    }
   ],
   "source": [
    "# Criando nossas tabelas. O método execute recebe uma query SQL e a executa.\n",
    "cursor.execute(\"CREATE TABLE dados_profissionais (Id integer, graduacao text, cargo text, salario integer, \\\n",
    "                tempo_casa integer)\")"
   ]
  },
  {
   "cell_type": "code",
   "execution_count": 8,
   "id": "4aba6a31",
   "metadata": {},
   "outputs": [],
   "source": [
    "# Inserindo dados na tabela dados_cadastrais\n",
    "cursor.execute(\"INSERT INTO dados_cadastrais VALUES(1, 'maria', 'silva', 0, 11111211313, 'rua 1 - SP')\")\n",
    "cursor.execute(\"INSERT INTO dados_cadastrais VALUES(2, 'joao', 'silva', 0, 11111211889, 'rua 2 - SP')\")\n",
    "cursor.execute(\"INSERT INTO dados_cadastrais VALUES(3, 'pedro', 'pereira', 0, 11111211786, 'rua 8 - SP')\")\n",
    "cursor.execute(\"INSERT INTO dados_cadastrais VALUES(4, 'paulo', 'ribeiro', 0, 11111211123, 'rua 9 - SP')\")\n",
    "conn.commit()"
   ]
  },
  {
   "cell_type": "code",
   "execution_count": 9,
   "id": "d07441e2",
   "metadata": {},
   "outputs": [
    {
     "data": {
      "text/plain": [
       "[(1, 'maria', 'silva', 0, 11111211313, 'rua 1 - SP'),\n",
       " (2, 'joao', 'silva', 0, 11111211889, 'rua 2 - SP'),\n",
       " (3, 'pedro', 'pereira', 0, 11111211786, 'rua 8 - SP'),\n",
       " (4, 'paulo', 'ribeiro', 0, 11111211123, 'rua 9 - SP')]"
      ]
     },
     "execution_count": 9,
     "metadata": {},
     "output_type": "execute_result"
    }
   ],
   "source": [
    "# Visualizando a tabela dados_cadastrais\n",
    "cursor.execute(\"SELECT * FROM dados_cadastrais\")\n",
    "cursor.fetchall()"
   ]
  },
  {
   "cell_type": "code",
   "execution_count": 10,
   "id": "8c1d4f35",
   "metadata": {},
   "outputs": [],
   "source": [
    "# Inserindo dados na tabela dados_profissionais\n",
    "cursor.execute(\"INSERT INTO dados_profissionais VALUES(1, 'matematica', 'professor', 3500.89, 3)\")\n",
    "cursor.execute(\"INSERT INTO dados_profissionais VALUES(2, 'geografia', 'orientador', 2850.80, 1)\")\n",
    "cursor.execute(\"INSERT INTO dados_profissionais VALUES(3, 'historia', 'orientador', 3200.45, 1)\")\n",
    "cursor.execute(\"INSERT INTO dados_profissionais VALUES(4, 'fisica', 'professor', 1890.33, 2)\")\n",
    "conn.commit()"
   ]
  },
  {
   "cell_type": "code",
   "execution_count": 11,
   "id": "4e62c1fb",
   "metadata": {},
   "outputs": [
    {
     "data": {
      "text/plain": [
       "[(1, 'matematica', 'professor', 3500.89, 3),\n",
       " (2, 'geografia', 'orientador', 2850.8, 1),\n",
       " (3, 'historia', 'orientador', 3200.45, 1),\n",
       " (4, 'fisica', 'professor', 1890.33, 2)]"
      ]
     },
     "execution_count": 11,
     "metadata": {},
     "output_type": "execute_result"
    }
   ],
   "source": [
    "# Visualizando a tabela dados_profissionais\n",
    "cursor.execute(\"SELECT * FROM dados_profissionais\")\n",
    "cursor.fetchall()"
   ]
  },
  {
   "cell_type": "code",
   "execution_count": 12,
   "id": "03f0c91b",
   "metadata": {},
   "outputs": [
    {
     "data": {
      "text/plain": [
       "[(1, 'matematica', 'professor', 3500.89, 3),\n",
       " (4, 'fisica', 'professor', 1890.33, 2),\n",
       " (2, 'geografia', 'orientador', 2850.8, 1),\n",
       " (3, 'historia', 'orientador', 3200.45, 1)]"
      ]
     },
     "execution_count": 12,
     "metadata": {},
     "output_type": "execute_result"
    }
   ],
   "source": [
    "# Ex2 - Usando a tabela dados_profissionais, escreva uma query que retorne todos os campos da tabela \n",
    "# ordenando-os pela coluna tempo_casa de maneira decrescente.\n",
    "\n",
    "cursor.execute(\"SELECT * FROM dados_profissionais ORDER BY tempo_casa DESC\")\n",
    "cursor.fetchall()"
   ]
  },
  {
   "cell_type": "code",
   "execution_count": 13,
   "id": "a96f81cc",
   "metadata": {},
   "outputs": [
    {
     "data": {
      "text/plain": [
       "[(4,)]"
      ]
     },
     "execution_count": 13,
     "metadata": {},
     "output_type": "execute_result"
    }
   ],
   "source": [
    "# Ex3 - Conte a quantidade de funcionários dessa empresa.\n",
    "\n",
    "cursor.execute(\"SELECT COUNT (Id) FROM dados_cadastrais\")\n",
    "cursor.fetchall()"
   ]
  },
  {
   "cell_type": "code",
   "execution_count": 14,
   "id": "e26ba8ad",
   "metadata": {},
   "outputs": [
    {
     "data": {
      "text/plain": [
       "[(2, 'joao', 'silva', 0, 11111211889, 'rua 2 - SP'),\n",
       " (1, 'maria', 'silva', 0, 11111211313, 'rua 1 - SP')]"
      ]
     },
     "execution_count": 14,
     "metadata": {},
     "output_type": "execute_result"
    }
   ],
   "source": [
    "# Ex4 - Usando a tabela dados_cadastrais, escreva uma query que liste apenas os funcionários que possuem \n",
    "# sobrenome \"silva\", ordenados pelo nome completo, ou seja, nome e sobrenome.\n",
    "\n",
    "cursor.execute(\"SELECT * FROM dados_cadastrais WHERE sobrenome = 'silva' ORDER BY nome, sobrenome\")\n",
    "cursor.fetchall()"
   ]
  },
  {
   "cell_type": "code",
   "execution_count": 30,
   "id": "842e65c9",
   "metadata": {},
   "outputs": [
    {
     "data": {
      "text/plain": [
       "[('orientador', 6051.25), ('professor', 5391.219999999999)]"
      ]
     },
     "execution_count": 30,
     "metadata": {},
     "output_type": "execute_result"
    }
   ],
   "source": [
    "# Ex5 - Escreva uma query que liste o valor da folha de pagamento dessa empresa por cargo, usando a tabela \n",
    "# dados_profissionais.( Ou seja, somar os salários em cada cargo).\n",
    "\n",
    "cursor.execute(\"SELECT cargo, SUM(salario) FROM dados_profissionais GROUP BY cargo\")\n",
    "cursor.fetchall()"
   ]
  },
  {
   "cell_type": "code",
   "execution_count": null,
   "id": "97cd876d",
   "metadata": {},
   "outputs": [],
   "source": []
  }
 ],
 "metadata": {
  "kernelspec": {
   "display_name": "Python 3 (ipykernel)",
   "language": "python",
   "name": "python3"
  },
  "language_info": {
   "codemirror_mode": {
    "name": "ipython",
    "version": 3
   },
   "file_extension": ".py",
   "mimetype": "text/x-python",
   "name": "python",
   "nbconvert_exporter": "python",
   "pygments_lexer": "ipython3",
   "version": "3.9.13"
  }
 },
 "nbformat": 4,
 "nbformat_minor": 5
}
